{
 "cells": [
  {
   "cell_type": "markdown",
   "metadata": {},
   "source": [
    "**To install the packages run**"
   ]
  },
  {
   "cell_type": "code",
   "execution_count": null,
   "metadata": {},
   "outputs": [],
   "source": [
    "!pip install pandas matplotlib seaborn scikit-learn"
   ]
  },
  {
   "cell_type": "code",
   "execution_count": null,
   "metadata": {},
   "outputs": [],
   "source": [
    "# imports\n",
    "import pandas as pd\n",
    "import matplotlib.pyplot as plt\n",
    "import seaborn as sns\n",
    "\n",
    "from sklearn.model_selection import train_test_split\n",
    "from sklearn.metrics import mean_absolute_error as mae \n",
    "from sklearn import metrics \n",
    "from sklearn.svm import SVC \n",
    "# from xgboost import XGBRegressor \n",
    "from sklearn.linear_model import LinearRegression, Lasso, Ridge \n",
    "from sklearn.ensemble import RandomForestRegressor\n",
    "from sklearn.neural_network import MLPClassifier\n",
    "\n",
    "import warnings \n",
    "warnings.filterwarnings('ignore')\n",
    "\n",
    "# import numpy as np"
   ]
  },
  {
   "cell_type": "markdown",
   "metadata": {},
   "source": [
    "# Data Exploration"
   ]
  },
  {
   "cell_type": "markdown",
   "metadata": {},
   "source": [
    "## Data Reading\n",
    "use the pandas library to read and view the data\n",
    "- Read the data as a dataframe (table format) using pandas library.\n",
    "- Display the first 5 rows of the dataframe.-> head()\n",
    "- Display the last 5 rows of the dataframe.-> tail()\n",
    "- Display the shape of the dataframe.-> shape\n",
    "- Display the columns of the dataframe.-> columns\n",
    "- Display the data types of the columns.-> dtypes\n",
    "- Display the summary statistics of the dataframe.-> describe()\n",
    "- Display the missing values in the dataframe.-> isnull().sum()\n",
    "- Display the number of unique values in the dataframe or a column.-> nunique()\n",
    "- Display distinct values and their counts in a column.-> value_counts()\n",
    "- Display the correlation between columns.-> corr()\n"
   ]
  },
  {
   "cell_type": "code",
   "execution_count": null,
   "metadata": {},
   "outputs": [],
   "source": [
    "df_train = pd.read_csv('data/train_processed.csv')\n",
    "# print first 5 rows\n",
    "df_train.head()"
   ]
  },
  {
   "cell_type": "code",
   "execution_count": null,
   "metadata": {},
   "outputs": [],
   "source": [
    "# number of unique values in the weather column\n",
    "df_train['weather'].nunique()"
   ]
  },
  {
   "cell_type": "code",
   "execution_count": null,
   "metadata": {},
   "outputs": [],
   "source": [
    "# TODO: Display the info of the data"
   ]
  },
  {
   "cell_type": "code",
   "execution_count": null,
   "metadata": {},
   "outputs": [],
   "source": [
    "# TODO: Display the summary statistics of the data"
   ]
  },
  {
   "cell_type": "code",
   "execution_count": null,
   "metadata": {},
   "outputs": [],
   "source": [
    "# TODO: Display the unique values of the 'season' column and their counts"
   ]
  },
  {
   "cell_type": "code",
   "execution_count": null,
   "metadata": {},
   "outputs": [],
   "source": [
    "# TODO: view count of null values in each column"
   ]
  },
  {
   "cell_type": "code",
   "execution_count": null,
   "metadata": {},
   "outputs": [],
   "source": [
    "# TODO: Experiment with the other functions."
   ]
  },
  {
   "cell_type": "code",
   "execution_count": null,
   "metadata": {},
   "outputs": [],
   "source": [
    "# coorelation\n",
    "df_train.corr()\n",
    "# look at Month vs season correlation\n",
    "# check the target column correlations."
   ]
  },
  {
   "cell_type": "markdown",
   "metadata": {},
   "source": [
    "## Reflect"
   ]
  },
  {
   "cell_type": "markdown",
   "metadata": {},
   "source": [
    "## Data visualization\n",
    "use seaborn to visualize the data\n",
    "- plot a line chart.-> sns.lineplot()\n",
    "- plot a bar chart.-> sns.barplot()\n",
    "- plot a box plot-> sns.boxplot()\n",
    "\n",
    "\n",
    "\n",
    "\n"
   ]
  },
  {
   "cell_type": "markdown",
   "metadata": {},
   "source": [
    "### Line Chart"
   ]
  },
  {
   "cell_type": "code",
   "execution_count": null,
   "metadata": {},
   "outputs": [],
   "source": [
    "# Plot a line plot for the features ['day', 'time', 'month'] against 'count'\n",
    "plt.subplots(figsize=(15, 10)) \n",
    "plt.subplot(2, 2, 1) \n",
    "plt.title('Day vs Count')\n",
    "sns.lineplot(x='day', y='count', data=df_train, errorbar=None)\n",
    "plt.subplot(2, 2, 2) \n",
    "plt.title('Time vs Count')\n",
    "# TODO: Plot a line plot for the feature 'time'\n",
    "\n",
    "plt.subplot(2, 2, 3) \n",
    "plt.title('month vs Count')\n",
    "# TODO: Plot a line plot for the feature 'month' \n",
    "\n",
    "\n",
    "plt.show()"
   ]
  },
  {
   "cell_type": "markdown",
   "metadata": {},
   "source": [
    "### Bar chart"
   ]
  },
  {
   "cell_type": "code",
   "execution_count": null,
   "metadata": {},
   "outputs": [],
   "source": [
    "# Plot a bar plot for the features ['season', 'weather', 'year']  against 'count'\n",
    "plt.subplots(figsize=(15, 5)) \n",
    "\n",
    "plt.subplot(1, 3, 1) \n",
    "plt.title('season')\n",
    "sns.barplot(x='season', y='count', data=df_train)\n",
    "\n",
    "plt.subplot(1, 3, 2) \n",
    "plt.title('weather')\n",
    "# TODO: Plot a barchart for the feature 'weather'\n",
    "\n",
    "plt.subplot(1, 3, 3) \n",
    "plt.title('year')\n",
    "# TODO: Plot a barchart for the feature 'year' \n",
    "\n",
    "\n",
    "plt.show()"
   ]
  },
  {
   "cell_type": "markdown",
   "metadata": {},
   "source": [
    "### Box plot"
   ]
  },
  {
   "cell_type": "markdown",
   "metadata": {},
   "source": [
    "box plot is used to show the distribution of the data. It shows the median, first quartile, third quartile, minimum, and maximum of the data."
   ]
  },
  {
   "cell_type": "code",
   "execution_count": null,
   "metadata": {},
   "outputs": [],
   "source": [
    "# plot a box plot to view the distribution of  ['temp', 'windspeed'] values.\n",
    "plt.subplots(figsize=(15, 5)) \n",
    "\n",
    "plt.subplot(1, 2, 1) \n",
    "plt.title('temp')\n",
    "# plot box plot and print the 5 number summary on the plot\n",
    "sns.boxplot(x='temp', data=df_train)\n",
    "\n",
    "plt.subplot(1, 2, 2) \n",
    "plt.title('windspeed')\n",
    "# TODO: Plot a box plot for the features 'windspeed'"
   ]
  },
  {
   "cell_type": "markdown",
   "metadata": {},
   "source": [
    "## Reflect"
   ]
  },
  {
   "cell_type": "markdown",
   "metadata": {},
   "source": [
    "# Data Preprocessing"
   ]
  },
  {
   "cell_type": "markdown",
   "metadata": {},
   "source": [
    "In this section, we will preprocess the data to make it ready for the machine learning model."
   ]
  },
  {
   "cell_type": "markdown",
   "metadata": {},
   "source": [
    "- get mean, median, mode of the data.-> mean(), median(), mode()\n",
    "- Drop the missing values.-> dropna(subset=[columns])\n",
    "- Fill the missing values.-> fillna(value)\n",
    "- Drop duplicates.-> drop_duplicates()\n",
    "- select columns.-> df[[columns]]\n",
    "- query the data.-> query(\"column > value\")\n",
    "- **set inplace to True to make changes in the original dataframe.-> inplace=True**\n"
   ]
  },
  {
   "cell_type": "markdown",
   "metadata": {},
   "source": [
    "## Handle Missing Values"
   ]
  },
  {
   "cell_type": "markdown",
   "metadata": {},
   "source": [
    "Columns with missing values can be handled in the following ways:\n",
    "- Drop the rows with missing values.-> dropna()\n",
    "- Fill the missing values.-> fillna(value)\n",
    "    - Fill with mean.-> fillna(df.mean())\n",
    "    - Fill with median.-> fillna(df.median())\n",
    "    - Fill with mode.-> fillna(df.mode())\n",
    "- Drop the columns with missing values.-> dropna(axis=1)"
   ]
  },
  {
   "cell_type": "code",
   "execution_count": null,
   "metadata": {},
   "outputs": [],
   "source": [
    "# drop the missing values in the 'count' column\n",
    "df_train.dropna(subset=['count'], inplace=True)"
   ]
  },
  {
   "cell_type": "code",
   "execution_count": null,
   "metadata": {},
   "outputs": [],
   "source": [
    "# TODO: handle missing values in the 'temp' column"
   ]
  },
  {
   "cell_type": "code",
   "execution_count": null,
   "metadata": {},
   "outputs": [],
   "source": [
    "# TODO: handle missing values in the 'season' column"
   ]
  },
  {
   "cell_type": "markdown",
   "metadata": {},
   "source": [
    "## Drop the outliers"
   ]
  },
  {
   "cell_type": "code",
   "execution_count": null,
   "metadata": {},
   "outputs": [],
   "source": [
    "# drop outliers in the 'windspeed' column\n",
    "\n",
    "# df_train = df_train[df_train['windspeed'] < 30]\n",
    "df_train.query('windspeed < 30', inplace=True)"
   ]
  },
  {
   "cell_type": "markdown",
   "metadata": {},
   "source": [
    "## Reflect"
   ]
  },
  {
   "cell_type": "markdown",
   "metadata": {},
   "source": [
    "## Train Dev split"
   ]
  },
  {
   "cell_type": "code",
   "execution_count": null,
   "metadata": {},
   "outputs": [],
   "source": [
    "# train dev split\n",
    "features = df_train.drop(['count'], axis=1) \n",
    "target = df_train['count'].values \n",
    "X_train, X_val, Y_train, Y_val = train_test_split(features, target, test_size = 0.1, random_state=22) \n",
    "X_train.shape, X_val.shape"
   ]
  },
  {
   "cell_type": "markdown",
   "metadata": {},
   "source": [
    "# Training"
   ]
  },
  {
   "cell_type": "markdown",
   "metadata": {},
   "source": [
    "Models:\n",
    "- LinearRegression()\n",
    "- Lasso() \n",
    "- RandomForestRegressor() \n",
    "- Ridge()"
   ]
  },
  {
   "cell_type": "markdown",
   "metadata": {},
   "source": [
    "## Linear Regression"
   ]
  },
  {
   "cell_type": "code",
   "execution_count": null,
   "metadata": {},
   "outputs": [],
   "source": [
    "model_LR = LinearRegression()\n",
    "model_LR.fit(X_train, Y_train) \n",
    "print(f'{model_LR} : ') \n",
    "  \n",
    "train_preds = model_LR.predict(X_train) \n",
    "print('Training Error : ', mae(Y_train, train_preds)) \n",
    "\n",
    "val_preds = model_LR.predict(X_val) \n",
    "print('Validation Error : ', mae(Y_val, val_preds)) \n",
    "print() "
   ]
  },
  {
   "cell_type": "code",
   "execution_count": null,
   "metadata": {},
   "outputs": [],
   "source": [
    "# TODO: experiment with different models"
   ]
  },
  {
   "cell_type": "code",
   "execution_count": null,
   "metadata": {},
   "outputs": [],
   "source": []
  },
  {
   "cell_type": "code",
   "execution_count": null,
   "metadata": {},
   "outputs": [],
   "source": []
  },
  {
   "cell_type": "markdown",
   "metadata": {},
   "source": [
    "## Reflect"
   ]
  },
  {
   "cell_type": "markdown",
   "metadata": {},
   "source": [
    "# Inference"
   ]
  },
  {
   "cell_type": "code",
   "execution_count": null,
   "metadata": {},
   "outputs": [],
   "source": [
    "# TODO: paste the best model here\n",
    "selected_model = ..."
   ]
  },
  {
   "cell_type": "code",
   "execution_count": null,
   "metadata": {},
   "outputs": [],
   "source": [
    "# run the model for the separate test set. (real life scenario)\n",
    "df_real = pd.read_csv('data/test_processed.csv')\n",
    "df_real.head()"
   ]
  },
  {
   "cell_type": "code",
   "execution_count": null,
   "metadata": {},
   "outputs": [],
   "source": [
    "preds = selected_model.predict(df_real) "
   ]
  },
  {
   "cell_type": "code",
   "execution_count": null,
   "metadata": {},
   "outputs": [],
   "source": [
    "df_real[\"predicted_count\"] = preds\n",
    "df_real.head()"
   ]
  },
  {
   "cell_type": "markdown",
   "metadata": {},
   "source": [
    "# Extra\n",
    "Experiment with mlp to see the loss "
   ]
  },
  {
   "cell_type": "markdown",
   "metadata": {},
   "source": [
    "- MLPClassifier(hidden_layer_sizes=(100,), max_iter=300,random_state=1,early_stopping=True,verbose=True,learning_rate_init=0.01)\n",
    "**TRY:**\n",
    "- learning_rate_init [0.0001, 0.01]\n",
    "- hidden_layer_sizes=(100,64,32,) and (4,)\n",
    "- increase/decrease max_iter\n",
    "- early_stopping=True"
   ]
  },
  {
   "cell_type": "code",
   "execution_count": null,
   "metadata": {},
   "outputs": [],
   "source": [
    "model_LR = MLPClassifier(hidden_layer_sizes=(100,), max_iter=50,random_state=1,verbose=True,learning_rate_init=0.01)\n",
    "model_LR.fit(X_train, Y_train) \n",
    "print(f'{model_LR} : ') \n",
    "  \n",
    "train_preds = model_LR.predict(X_train) \n",
    "print('Training Error : ', mae(Y_train, train_preds)) \n",
    "\n",
    "val_preds = model_LR.predict(X_val) \n",
    "print('Validation Error : ', mae(Y_val, val_preds)) \n"
   ]
  },
  {
   "cell_type": "code",
   "execution_count": null,
   "metadata": {},
   "outputs": [],
   "source": []
  }
 ],
 "metadata": {
  "kernelspec": {
   "display_name": "amlpipeline",
   "language": "python",
   "name": "python3"
  },
  "language_info": {
   "codemirror_mode": {
    "name": "ipython",
    "version": 3
   },
   "file_extension": ".py",
   "mimetype": "text/x-python",
   "name": "python",
   "nbconvert_exporter": "python",
   "pygments_lexer": "ipython3",
   "version": "3.7.7"
  }
 },
 "nbformat": 4,
 "nbformat_minor": 2
}
